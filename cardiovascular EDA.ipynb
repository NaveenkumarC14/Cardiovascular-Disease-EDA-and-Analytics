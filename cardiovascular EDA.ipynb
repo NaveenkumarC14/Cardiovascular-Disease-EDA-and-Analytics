{
  "nbformat": 4,
  "nbformat_minor": 0,
  "metadata": {
    "kernelspec": {
      "language": "python",
      "display_name": "Python 3",
      "name": "python3"
    },
    "language_info": {
      "pygments_lexer": "ipython3",
      "nbconvert_exporter": "python",
      "version": "3.6.4",
      "file_extension": ".py",
      "codemirror_mode": {
        "name": "ipython",
        "version": 3
      },
      "name": "python",
      "mimetype": "text/x-python"
    },
    "colab": {
      "name": "notebook32a2ecd253.ipynb",
      "provenance": []
    }
  },
  "cells": [
    {
      "cell_type": "markdown",
      "metadata": {
        "id": "1znz6W801hww"
      },
      "source": [
        "# Cardiovascular Disease Prediction\n",
        "![cardio_vasc](https://i2.wp.com/thejournalofmhealth.com/wp-content/uploads/2019/07/Sensyne-Health-Partners-with-Bayer-to-Accelerate-New-Treatments-for-Cardiovascular-Disease.jpg?resize=777%2C437&ssl=1)\n",
        "\n",
        "Cardiovascular disease (CVD) is a general term for conditions affecting the heart or blood vessels. It's usually associated with a build-up of fatty deposits inside the arteries (atherosclerosis) and an increased risk of blood clots.\n",
        "\n",
        "The dataset consists of 69301 records of patients data in 12 features, such as age, gender, systolic blood pressure, diastolic blood pressure, and etc. The target class \"cardio\" equals to 1, when patient has cardiovascular desease, and it's 0, if patient is healthy.\n",
        "\n",
        "**Task** - To predict the presence or absence of cardiovascular disease (CVD) using the patient examination results.\n",
        "\n",
        "**Data description**\n",
        "\n",
        "There are 3 types of input features:\n",
        "\n",
        "*   *Objective:* factual information\n",
        "*   *Examination:* results of medical examination\n",
        "*   *Subjective:* information given by the patient\n",
        "\n",
        "\n",
        "| Feature | Variable Type | Data Type | Variable| Value Type |\n",
        "|---------|--------------|--------|----------|------------|\n",
        "| Age | Objective Feature | Continous (Ratio) | age | int (days) |\n",
        "| Height | Objective Feature | Continous (Interval) | height | int (cm) |\n",
        "| Weight | Objective Feature | Continous (Interval) | weight | float (kg) |\n",
        "| Gender | Objective Feature | Categorical (Nominal) | gender | categorical code |\n",
        "| Systolic blood pressure | Examination Feature | Continous (Interval) | ap_hi | int |\n",
        "| Diastolic blood pressure | Examination Feature | Continous (Interval) | ap_lo | int |\n",
        "| Cholesterol | Examination Feature |  Categorical (Ordinal) | cholesterol | 1: normal, 2: above normal, 3: well above normal |\n",
        "| Glucose | Examination Feature | Categorical (Ordinal) | gluc | 1: normal, 2: above normal, 3: well above normal |\n",
        "| Smoking | Subjective Feature | Categorical (Nominal) | smoke | binary |\n",
        "| Alcohol intake | Subjective Feature | Categorical (Nominal) | alco | binary |\n",
        "| Physical activity | Subjective Feature | Categorical (Nominal) | active | binary |\n",
        "| cardiovascular disease | Target Variable | Categorical (Nominal) | cardio | binary |\n",
        "\n",
        "*All of the dataset values were collected at the moment of medical examination.*\n",
        "\n",
        "Credits for Dataset : [Svetlana Ulianova](https://www.kaggle.com/sulianova)\n"
      ]
    },
    {
      "cell_type": "code",
      "metadata": {
        "id": "Vd2VN2Tp0Bar",
        "trusted": true
      },
      "source": [
        "import numpy as np # linear algebra\n",
        "import pandas as pd # data processing, CSV file I/O (e.g. pd.read_csv)\n",
        "from matplotlib import pyplot as plt # for visualization\n",
        "import seaborn as sns # for visualization\n",
        "import sklearn # for scientific calculations\n",
        "from sklearn import preprocessing\n",
        "from matplotlib import rcParams\n",
        "import warnings\n",
        "warnings.filterwarnings(\"ignore\")"
      ],
      "execution_count": null,
      "outputs": []
    },
    {
      "cell_type": "markdown",
      "metadata": {
        "id": "yQarsk3809kG"
      },
      "source": [
        "### Data Collection & Cleaning"
      ]
    },
    {
      "cell_type": "code",
      "metadata": {
        "colab": {
          "resources": {
            "http://localhost:8080/nbextensions/google.colab/files.js": {
              "data": "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",
              "ok": true,
              "headers": [
                [
                  "content-type",
                  "application/javascript"
                ]
              ],
              "status": 200,
              "status_text": ""
            }
          },
          "base_uri": "https://localhost:8080/",
          "height": 73
        },
        "id": "TvUxdniq6ybx",
        "outputId": "8797ea1c-0ba3-4886-f9db-73d097e2a32c"
      },
      "source": [
        "from google.colab import files\r\n",
        "uploaded=files.upload()"
      ],
      "execution_count": null,
      "outputs": [
        {
          "output_type": "display_data",
          "data": {
            "text/html": [
              "\n",
              "     <input type=\"file\" id=\"files-875ab072-acf8-453c-903d-71c41ffba17b\" name=\"files[]\" multiple disabled\n",
              "        style=\"border:none\" />\n",
              "     <output id=\"result-875ab072-acf8-453c-903d-71c41ffba17b\">\n",
              "      Upload widget is only available when the cell has been executed in the\n",
              "      current browser session. Please rerun this cell to enable.\n",
              "      </output>\n",
              "      <script src=\"/nbextensions/google.colab/files.js\"></script> "
            ],
            "text/plain": [
              "<IPython.core.display.HTML object>"
            ]
          },
          "metadata": {
            "tags": []
          }
        },
        {
          "output_type": "stream",
          "text": [
            "Saving cardio_train.csv to cardio_train.csv\n"
          ],
          "name": "stdout"
        }
      ]
    },
    {
      "cell_type": "code",
      "metadata": {
        "id": "C-aNuh7r0osy",
        "trusted": true,
        "colab": {
          "base_uri": "https://localhost:8080/",
          "height": 204
        },
        "outputId": "7b668f83-29aa-4f90-8208-3bd59b895ca9"
      },
      "source": [
        "# Data Loading\n",
        "df_raw = pd.read_csv(\"cardio_train.csv\")\n",
        "df_raw.head()"
      ],
      "execution_count": null,
      "outputs": [
        {
          "output_type": "execute_result",
          "data": {
            "text/html": [
              "<div>\n",
              "<style scoped>\n",
              "    .dataframe tbody tr th:only-of-type {\n",
              "        vertical-align: middle;\n",
              "    }\n",
              "\n",
              "    .dataframe tbody tr th {\n",
              "        vertical-align: top;\n",
              "    }\n",
              "\n",
              "    .dataframe thead th {\n",
              "        text-align: right;\n",
              "    }\n",
              "</style>\n",
              "<table border=\"1\" class=\"dataframe\">\n",
              "  <thead>\n",
              "    <tr style=\"text-align: right;\">\n",
              "      <th></th>\n",
              "      <th>id</th>\n",
              "      <th>age</th>\n",
              "      <th>gender</th>\n",
              "      <th>height</th>\n",
              "      <th>weight</th>\n",
              "      <th>ap_hi</th>\n",
              "      <th>ap_lo</th>\n",
              "      <th>cholesterol</th>\n",
              "      <th>gluc</th>\n",
              "      <th>smoke</th>\n",
              "      <th>alco</th>\n",
              "      <th>active</th>\n",
              "      <th>cardio</th>\n",
              "    </tr>\n",
              "  </thead>\n",
              "  <tbody>\n",
              "    <tr>\n",
              "      <th>0</th>\n",
              "      <td>0</td>\n",
              "      <td>18393</td>\n",
              "      <td>2</td>\n",
              "      <td>168</td>\n",
              "      <td>62.0</td>\n",
              "      <td>110</td>\n",
              "      <td>80</td>\n",
              "      <td>1</td>\n",
              "      <td>1</td>\n",
              "      <td>0</td>\n",
              "      <td>0</td>\n",
              "      <td>1</td>\n",
              "      <td>0</td>\n",
              "    </tr>\n",
              "    <tr>\n",
              "      <th>1</th>\n",
              "      <td>1</td>\n",
              "      <td>20228</td>\n",
              "      <td>1</td>\n",
              "      <td>156</td>\n",
              "      <td>85.0</td>\n",
              "      <td>140</td>\n",
              "      <td>90</td>\n",
              "      <td>3</td>\n",
              "      <td>1</td>\n",
              "      <td>0</td>\n",
              "      <td>0</td>\n",
              "      <td>1</td>\n",
              "      <td>1</td>\n",
              "    </tr>\n",
              "    <tr>\n",
              "      <th>2</th>\n",
              "      <td>2</td>\n",
              "      <td>18857</td>\n",
              "      <td>1</td>\n",
              "      <td>165</td>\n",
              "      <td>64.0</td>\n",
              "      <td>130</td>\n",
              "      <td>70</td>\n",
              "      <td>3</td>\n",
              "      <td>1</td>\n",
              "      <td>0</td>\n",
              "      <td>0</td>\n",
              "      <td>0</td>\n",
              "      <td>1</td>\n",
              "    </tr>\n",
              "    <tr>\n",
              "      <th>3</th>\n",
              "      <td>3</td>\n",
              "      <td>17623</td>\n",
              "      <td>2</td>\n",
              "      <td>169</td>\n",
              "      <td>82.0</td>\n",
              "      <td>150</td>\n",
              "      <td>100</td>\n",
              "      <td>1</td>\n",
              "      <td>1</td>\n",
              "      <td>0</td>\n",
              "      <td>0</td>\n",
              "      <td>1</td>\n",
              "      <td>1</td>\n",
              "    </tr>\n",
              "    <tr>\n",
              "      <th>4</th>\n",
              "      <td>4</td>\n",
              "      <td>17474</td>\n",
              "      <td>1</td>\n",
              "      <td>156</td>\n",
              "      <td>56.0</td>\n",
              "      <td>100</td>\n",
              "      <td>60</td>\n",
              "      <td>1</td>\n",
              "      <td>1</td>\n",
              "      <td>0</td>\n",
              "      <td>0</td>\n",
              "      <td>0</td>\n",
              "      <td>0</td>\n",
              "    </tr>\n",
              "  </tbody>\n",
              "</table>\n",
              "</div>"
            ],
            "text/plain": [
              "   id    age  gender  height  weight  ...  gluc  smoke  alco  active  cardio\n",
              "0   0  18393       2     168    62.0  ...     1      0     0       1       0\n",
              "1   1  20228       1     156    85.0  ...     1      0     0       1       1\n",
              "2   2  18857       1     165    64.0  ...     1      0     0       0       1\n",
              "3   3  17623       2     169    82.0  ...     1      0     0       1       1\n",
              "4   4  17474       1     156    56.0  ...     1      0     0       0       0\n",
              "\n",
              "[5 rows x 13 columns]"
            ]
          },
          "metadata": {
            "tags": []
          },
          "execution_count": 7
        }
      ]
    },
    {
      "cell_type": "code",
      "metadata": {
        "id": "AT1E8dNG7SSK",
        "trusted": true,
        "colab": {
          "base_uri": "https://localhost:8080/"
        },
        "outputId": "d25be69c-51e8-43ef-98ee-f641ac25ee10"
      },
      "source": [
        "# Basic information about dataset\n",
        "df_raw.info()"
      ],
      "execution_count": null,
      "outputs": [
        {
          "output_type": "stream",
          "text": [
            "<class 'pandas.core.frame.DataFrame'>\n",
            "RangeIndex: 70000 entries, 0 to 69999\n",
            "Data columns (total 13 columns):\n",
            " #   Column       Non-Null Count  Dtype  \n",
            "---  ------       --------------  -----  \n",
            " 0   id           70000 non-null  int64  \n",
            " 1   age          70000 non-null  int64  \n",
            " 2   gender       70000 non-null  int64  \n",
            " 3   height       70000 non-null  int64  \n",
            " 4   weight       70000 non-null  float64\n",
            " 5   ap_hi        70000 non-null  int64  \n",
            " 6   ap_lo        70000 non-null  int64  \n",
            " 7   cholesterol  70000 non-null  int64  \n",
            " 8   gluc         70000 non-null  int64  \n",
            " 9   smoke        70000 non-null  int64  \n",
            " 10  alco         70000 non-null  int64  \n",
            " 11  active       70000 non-null  int64  \n",
            " 12  cardio       70000 non-null  int64  \n",
            "dtypes: float64(1), int64(12)\n",
            "memory usage: 6.9 MB\n"
          ],
          "name": "stdout"
        }
      ]
    },
    {
      "cell_type": "markdown",
      "metadata": {
        "id": "KYYAVJO2CJ-7"
      },
      "source": [
        "There are 70000 entries of patient records. "
      ]
    },
    {
      "cell_type": "code",
      "metadata": {
        "id": "r2-qNiWd9TTa",
        "trusted": true,
        "colab": {
          "base_uri": "https://localhost:8080/"
        },
        "outputId": "e4e96ec8-2814-4bca-819c-f70447d8ca24"
      },
      "source": [
        "# Checking any missing values\n",
        "df_raw.isnull().sum()"
      ],
      "execution_count": null,
      "outputs": [
        {
          "output_type": "execute_result",
          "data": {
            "text/plain": [
              "id             0\n",
              "age            0\n",
              "gender         0\n",
              "height         0\n",
              "weight         0\n",
              "ap_hi          0\n",
              "ap_lo          0\n",
              "cholesterol    0\n",
              "gluc           0\n",
              "smoke          0\n",
              "alco           0\n",
              "active         0\n",
              "cardio         0\n",
              "dtype: int64"
            ]
          },
          "metadata": {
            "tags": []
          },
          "execution_count": 9
        }
      ]
    },
    {
      "cell_type": "markdown",
      "metadata": {
        "id": "lPWboEDPCS7m"
      },
      "source": [
        "From this we can assume that there is 0 Null values in the dataset"
      ]
    },
    {
      "cell_type": "code",
      "metadata": {
        "id": "L0xQTlpZB_3m",
        "trusted": true,
        "colab": {
          "base_uri": "https://localhost:8080/"
        },
        "outputId": "5c50ffe6-6226-4813-807f-e68b3b08e544"
      },
      "source": [
        "# Checking for any duplicate values in dataset\n",
        "df_raw.duplicated().sum()"
      ],
      "execution_count": null,
      "outputs": [
        {
          "output_type": "execute_result",
          "data": {
            "text/plain": [
              "0"
            ]
          },
          "metadata": {
            "tags": []
          },
          "execution_count": 10
        }
      ]
    },
    {
      "cell_type": "markdown",
      "metadata": {
        "id": "yCX3kYcsCnrb"
      },
      "source": [
        "There are 0 duplicate values in the dataset.\n",
        "\n",
        "From this data cleaning process we can conclude that the dataset is good to go for analysing process. "
      ]
    },
    {
      "cell_type": "markdown",
      "metadata": {
        "id": "V7BnE79IEP23"
      },
      "source": [
        "### Data Understanding ( EDA & Visualizations )\n",
        "\n",
        "As we know there are three types of input features. We can analyse the features by their feature category for better understanding.\n",
        "\n",
        "Cardio Vascular Disease is often cauesd by Atherosclerosis.\n",
        "\n",
        "Atherosclerosis refers to the buildup of fats, cholesterol and other substances in and on your artery walls (plaque), which can restrict blood flow. The plaque can burst, triggering a blood clot. Although atherosclerosis is often considered a heart problem, it can affect arteries anywhere in your body.\n",
        "\n",
        "![aero](https://qph.fs.quoracdn.net/main-qimg-08f17da9dfa8fc92e255a55b4826160b)\n",
        "\n",
        "There are two type of causes for this disease :\n",
        "\n",
        "**Non-Modifiable Cause:**\n",
        "* Old Age\n",
        "* Heridity \n",
        "* Gender Factor such as Male\n",
        "\n",
        "**Modifiable Cause:**\n",
        "* Alcohol & Smoking \n",
        "* Poor Diet\n",
        "* Lack of Excersie \n",
        "* Obesity\n",
        "* Poor Sleep\n",
        "\n",
        "Researching about the disease and comparing with our dataset we can find the features are relating with the disease cause.\n"
      ]
    },
    {
      "cell_type": "markdown",
      "metadata": {
        "id": "8EwYz4ebr6v0"
      },
      "source": [
        "Let us start with non-modifiable cause such as age, gender, bmi.\n",
        "\n",
        "As ages are in number of days let us caluclate the age and categorize."
      ]
    },
    {
      "cell_type": "code",
      "metadata": {
        "id": "_iH9FcxRCjZh",
        "trusted": true
      },
      "source": [
        "# Convert the ages from number of days to categorical values\n",
        "def calculate_age(days):\n",
        "  days_year = 365.2425\n",
        "  age = int(days // days_year)\n",
        "  return age\n",
        "\n",
        "# According to US National Library of Medicine National Institutes of Health the age groups are classified\n",
        "def categorize_age(age):\n",
        "  if 0 < age <= 2:\n",
        "    return \"Infants\"\n",
        "  elif 2 < age <= 5:\n",
        "    return \"Pre School Child\"\n",
        "  elif 5 < age <= 12:\n",
        "    return \"Child\"\n",
        "  elif 12 < age <= 19:\n",
        "    return \"Adolescent\"\n",
        "  elif 19 < age <= 24:\n",
        "    return \"Young Adult\"\n",
        "  elif 24 < age <= 44:\n",
        "    return \"Adult\"\n",
        "  elif 44 < age <= 65:\n",
        "    return \"Middle Aged\"\n",
        "  elif 65 < age:\n",
        "    return \"Aged\"\n",
        "\n",
        "def categorize_age_tees(age):\n",
        "  if 0 < age <= 10:\n",
        "    return \"10s\"\n",
        "  elif 10 < age <= 30:\n",
        "    return \"20s\"\n",
        "  elif 20 < age <= 30:\n",
        "    return \"30s\"\n",
        "  elif 30 < age <= 40:\n",
        "    return \"40s\"\n",
        "  elif 40 < age <= 50:\n",
        "    return \"50s\"\n",
        "  elif 50 < age <= 60:\n",
        "    return \"60s\"\n",
        "  elif 60 < age <= 70:\n",
        "    return \"70+\""
      ],
      "execution_count": null,
      "outputs": []
    },
    {
      "cell_type": "code",
      "metadata": {
        "id": "bX0-F6g62cmw",
        "trusted": true,
        "colab": {
          "base_uri": "https://localhost:8080/",
          "height": 204
        },
        "outputId": "b1c5df2c-8985-4f1d-d0fb-88f12a072fa4"
      },
      "source": [
        "# age transformations\n",
        "df_raw['age_new'] = df_raw['age'].apply(lambda x: calculate_age(x))\n",
        "df_raw['age_cat'] = df_raw['age_new'].apply(lambda x: categorize_age(x))\n",
        "df_raw['age_tees'] = df_raw['age_new'].apply(lambda x: categorize_age_tees(x))\n",
        "df_raw.head()"
      ],
      "execution_count": null,
      "outputs": [
        {
          "output_type": "execute_result",
          "data": {
            "text/html": [
              "<div>\n",
              "<style scoped>\n",
              "    .dataframe tbody tr th:only-of-type {\n",
              "        vertical-align: middle;\n",
              "    }\n",
              "\n",
              "    .dataframe tbody tr th {\n",
              "        vertical-align: top;\n",
              "    }\n",
              "\n",
              "    .dataframe thead th {\n",
              "        text-align: right;\n",
              "    }\n",
              "</style>\n",
              "<table border=\"1\" class=\"dataframe\">\n",
              "  <thead>\n",
              "    <tr style=\"text-align: right;\">\n",
              "      <th></th>\n",
              "      <th>id</th>\n",
              "      <th>age</th>\n",
              "      <th>gender</th>\n",
              "      <th>height</th>\n",
              "      <th>weight</th>\n",
              "      <th>ap_hi</th>\n",
              "      <th>ap_lo</th>\n",
              "      <th>cholesterol</th>\n",
              "      <th>gluc</th>\n",
              "      <th>smoke</th>\n",
              "      <th>alco</th>\n",
              "      <th>active</th>\n",
              "      <th>cardio</th>\n",
              "      <th>age_new</th>\n",
              "      <th>age_cat</th>\n",
              "      <th>age_tees</th>\n",
              "    </tr>\n",
              "  </thead>\n",
              "  <tbody>\n",
              "    <tr>\n",
              "      <th>0</th>\n",
              "      <td>0</td>\n",
              "      <td>18393</td>\n",
              "      <td>2</td>\n",
              "      <td>168</td>\n",
              "      <td>62.0</td>\n",
              "      <td>110</td>\n",
              "      <td>80</td>\n",
              "      <td>1</td>\n",
              "      <td>1</td>\n",
              "      <td>0</td>\n",
              "      <td>0</td>\n",
              "      <td>1</td>\n",
              "      <td>0</td>\n",
              "      <td>50</td>\n",
              "      <td>Middle Aged</td>\n",
              "      <td>50s</td>\n",
              "    </tr>\n",
              "    <tr>\n",
              "      <th>1</th>\n",
              "      <td>1</td>\n",
              "      <td>20228</td>\n",
              "      <td>1</td>\n",
              "      <td>156</td>\n",
              "      <td>85.0</td>\n",
              "      <td>140</td>\n",
              "      <td>90</td>\n",
              "      <td>3</td>\n",
              "      <td>1</td>\n",
              "      <td>0</td>\n",
              "      <td>0</td>\n",
              "      <td>1</td>\n",
              "      <td>1</td>\n",
              "      <td>55</td>\n",
              "      <td>Middle Aged</td>\n",
              "      <td>60s</td>\n",
              "    </tr>\n",
              "    <tr>\n",
              "      <th>2</th>\n",
              "      <td>2</td>\n",
              "      <td>18857</td>\n",
              "      <td>1</td>\n",
              "      <td>165</td>\n",
              "      <td>64.0</td>\n",
              "      <td>130</td>\n",
              "      <td>70</td>\n",
              "      <td>3</td>\n",
              "      <td>1</td>\n",
              "      <td>0</td>\n",
              "      <td>0</td>\n",
              "      <td>0</td>\n",
              "      <td>1</td>\n",
              "      <td>51</td>\n",
              "      <td>Middle Aged</td>\n",
              "      <td>60s</td>\n",
              "    </tr>\n",
              "    <tr>\n",
              "      <th>3</th>\n",
              "      <td>3</td>\n",
              "      <td>17623</td>\n",
              "      <td>2</td>\n",
              "      <td>169</td>\n",
              "      <td>82.0</td>\n",
              "      <td>150</td>\n",
              "      <td>100</td>\n",
              "      <td>1</td>\n",
              "      <td>1</td>\n",
              "      <td>0</td>\n",
              "      <td>0</td>\n",
              "      <td>1</td>\n",
              "      <td>1</td>\n",
              "      <td>48</td>\n",
              "      <td>Middle Aged</td>\n",
              "      <td>50s</td>\n",
              "    </tr>\n",
              "    <tr>\n",
              "      <th>4</th>\n",
              "      <td>4</td>\n",
              "      <td>17474</td>\n",
              "      <td>1</td>\n",
              "      <td>156</td>\n",
              "      <td>56.0</td>\n",
              "      <td>100</td>\n",
              "      <td>60</td>\n",
              "      <td>1</td>\n",
              "      <td>1</td>\n",
              "      <td>0</td>\n",
              "      <td>0</td>\n",
              "      <td>0</td>\n",
              "      <td>0</td>\n",
              "      <td>47</td>\n",
              "      <td>Middle Aged</td>\n",
              "      <td>50s</td>\n",
              "    </tr>\n",
              "  </tbody>\n",
              "</table>\n",
              "</div>"
            ],
            "text/plain": [
              "   id    age  gender  height  ...  cardio  age_new      age_cat  age_tees\n",
              "0   0  18393       2     168  ...       0       50  Middle Aged       50s\n",
              "1   1  20228       1     156  ...       1       55  Middle Aged       60s\n",
              "2   2  18857       1     165  ...       1       51  Middle Aged       60s\n",
              "3   3  17623       2     169  ...       1       48  Middle Aged       50s\n",
              "4   4  17474       1     156  ...       0       47  Middle Aged       50s\n",
              "\n",
              "[5 rows x 16 columns]"
            ]
          },
          "metadata": {
            "tags": []
          },
          "execution_count": 12
        }
      ]
    },
    {
      "cell_type": "code",
      "metadata": {
        "id": "dD7pGqWA3_UE",
        "trusted": true,
        "colab": {
          "base_uri": "https://localhost:8080/",
          "height": 460
        },
        "outputId": "c29160de-f520-4399-8a56-0c345d1ceb88"
      },
      "source": [
        "# Visulization of age groups\n",
        "rcParams['figure.figsize'] = 7, 7\n",
        "sns.countplot(x ='age_cat', data = df_raw) "
      ],
      "execution_count": null,
      "outputs": [
        {
          "output_type": "execute_result",
          "data": {
            "text/plain": [
              "<matplotlib.axes._subplots.AxesSubplot at 0x7f2adc5d7a90>"
            ]
          },
          "metadata": {
            "tags": []
          },
          "execution_count": 13
        },
        {
          "output_type": "display_data",
          "data": {
            "image/png": "[encoded data removed]",
            "text/plain": [
              "<Figure size 504x504 with 1 Axes>"
            ]
          },
          "metadata": {
            "tags": [],
            "needs_background": "light"
          }
        }
      ]
    },
    {
      "cell_type": "markdown",
      "metadata": {
        "id": "1MLrEL7A6C2Y"
      },
      "source": [
        "From this graph information , the dataset contains **majorly of Middle Aged** people data and **minor of Adult** data. \n",
        "\n",
        "Let us look by how many of the people got affected by CVD & not by their age group."
      ]
    },
    {
      "cell_type": "code",
      "metadata": {
        "id": "CVoqLzE0506v",
        "trusted": true,
        "colab": {
          "base_uri": "https://localhost:8080/",
          "height": 460
        },
        "outputId": "546e6556-7db3-4dd1-9601-94ea50b34eaf"
      },
      "source": [
        "# Visulization of age groups with cvdd info\n",
        "rcParams['figure.figsize'] = 7, 7\n",
        "sns.countplot(x ='age_cat', hue = 'cardio', data = df_raw) "
      ],
      "execution_count": null,
      "outputs": [
        {
          "output_type": "execute_result",
          "data": {
            "text/plain": [
              "<matplotlib.axes._subplots.AxesSubplot at 0x7f2adc08e9e8>"
            ]
          },
          "metadata": {
            "tags": []
          },
          "execution_count": 14
        },
        {
          "output_type": "display_data",
          "data": {
            "image/png": "[encoded data removed]",
            "text/plain": [
              "<Figure size 504x504 with 1 Axes>"
            ]
          },
          "metadata": {
            "tags": [],
            "needs_background": "light"
          }
        }
      ]
    },
    {
      "cell_type": "markdown",
      "metadata": {
        "id": "yTBCe7wg7tP6"
      },
      "source": [
        "The graph says mostly middle aged people are affected by CVD while comparing to Adult."
      ]
    },
    {
      "cell_type": "code",
      "metadata": {
        "id": "XEnpu46hBHB6",
        "trusted": true,
        "colab": {
          "base_uri": "https://localhost:8080/",
          "height": 497
        },
        "outputId": "e390cd51-2ac8-4792-81d8-8d7d9ef38854"
      },
      "source": [
        "rcParams['figure.figsize'] = 11, 8\n",
        "sns.countplot(x='age_new', hue='cardio', data = df_raw, palette=\"Set2\");"
      ],
      "execution_count": null,
      "outputs": [
        {
          "output_type": "display_data",
          "data": {
            "image/png": "[encoded data removed]",
            "text/plain": [
              "<Figure size 792x576 with 1 Axes>"
            ]
          },
          "metadata": {
            "tags": [],
            "needs_background": "light"
          }
        }
      ]
    },
    {
      "cell_type": "markdown",
      "metadata": {
        "id": "fVCRqWMFBlUz"
      },
      "source": [
        "From this visual we can assume that people who are 55 greater in age are more exposed to CVD. But both the categorization are seem to be over and less variated which is not good for consider to be modelled because of improper distribution . So we can categorize by 10's of their ages."
      ]
    },
    {
      "cell_type": "code",
      "metadata": {
        "id": "7vjxtuNIEMAn",
        "trusted": true,
        "colab": {
          "base_uri": "https://localhost:8080/",
          "height": 443
        },
        "outputId": "b4210035-9961-4b1e-9c41-bbfacb8da01a"
      },
      "source": [
        "rcParams['figure.figsize'] = 10, 7\n",
        "sns.countplot(x='age_tees', hue='cardio', data = df_raw, palette=\"Set2\", order = ['10s','20s','30s','40s','50s','60s','70+']);"
      ],
      "execution_count": null,
      "outputs": [
        {
          "output_type": "display_data",
          "data": {
            "image/png": "[encoded data removed]",
            "text/plain": [
              "<Figure size 720x504 with 1 Axes>"
            ]
          },
          "metadata": {
            "tags": [],
            "needs_background": "light"
          }
        }
      ]
    },
    {
      "cell_type": "markdown",
      "metadata": {
        "id": "AVBJoCCWFLNg"
      },
      "source": [
        "this graph infer that 60s and 70+ ages are more prone to CVD compare to 40s and 50s. Also there are no CVD patient in 10s, 20s, 30s category. Also , compare to other age visuals it gives more clarity so that we can consider it for FE for modelling."
      ]
    },
    {
      "cell_type": "markdown",
      "metadata": {
        "id": "ehRkP0788Ca9"
      },
      "source": [
        "Coming into gender ratio , in our dataset we have classified gender field by binaries 0 and 1 . We are not sure what 0 and 1 stands for whether its Male or Female .\n",
        "\n",
        "Basically , Men and Female has certain properties. From our given dataset we can check for following properties and conclude the categories.\n",
        "* Height - Men are on average heighter than Women\n",
        "* Alcohol - Men are more into this habit compare to Women\n",
        "* Gender ratio - Men will be high compare to Women"
      ]
    },
    {
      "cell_type": "code",
      "metadata": {
        "id": "PMdYS4qt7lBT",
        "trusted": true,
        "colab": {
          "base_uri": "https://localhost:8080/"
        },
        "outputId": "8c6cfc10-48e6-43b3-be5d-602b4566d1ba"
      },
      "source": [
        "# Height comparison \n",
        "df_raw.groupby('gender')['height'].mean()"
      ],
      "execution_count": null,
      "outputs": [
        {
          "output_type": "execute_result",
          "data": {
            "text/plain": [
              "gender\n",
              "1    161.355612\n",
              "2    169.947895\n",
              "Name: height, dtype: float64"
            ]
          },
          "metadata": {
            "tags": []
          },
          "execution_count": 17
        }
      ]
    },
    {
      "cell_type": "markdown",
      "metadata": {
        "id": "rZzhFhLRII1d"
      },
      "source": [
        "On Average , Label 2 is heighter than Label 1."
      ]
    },
    {
      "cell_type": "code",
      "metadata": {
        "id": "cDfxJmDkItUL",
        "trusted": true,
        "colab": {
          "base_uri": "https://localhost:8080/"
        },
        "outputId": "83ff78e3-1e73-4a5f-c928-756d82dc9af5"
      },
      "source": [
        "# Alcohol consumption \n",
        "df_raw.groupby('gender')['alco'].sum()"
      ],
      "execution_count": null,
      "outputs": [
        {
          "output_type": "execute_result",
          "data": {
            "text/plain": [
              "gender\n",
              "1    1161\n",
              "2    2603\n",
              "Name: alco, dtype: int64"
            ]
          },
          "metadata": {
            "tags": []
          },
          "execution_count": 18
        }
      ]
    },
    {
      "cell_type": "markdown",
      "metadata": {
        "id": "fzGCHOEMI5-f"
      },
      "source": [
        "Label 2 has more count of Alcohol consumption compare to Label 1 which adds more strenght of Label 2 being Male."
      ]
    },
    {
      "cell_type": "code",
      "metadata": {
        "id": "FvjJ6bijIHid",
        "trusted": true,
        "colab": {
          "base_uri": "https://localhost:8080/"
        },
        "outputId": "8cc665c1-4e3d-4323-95b6-756b978c1bcd"
      },
      "source": [
        "# Gender Ratio\n",
        "df_raw['gender'].value_counts()"
      ],
      "execution_count": null,
      "outputs": [
        {
          "output_type": "execute_result",
          "data": {
            "text/plain": [
              "1    45530\n",
              "2    24470\n",
              "Name: gender, dtype: int64"
            ]
          },
          "metadata": {
            "tags": []
          },
          "execution_count": 19
        }
      ]
    },
    {
      "cell_type": "markdown",
      "metadata": {
        "id": "_43ZRf12IXLa"
      },
      "source": [
        "This count values says that Label 1 ( Female ) are more compare to Label 2 ( Male )"
      ]
    },
    {
      "cell_type": "code",
      "metadata": {
        "id": "OBzdG_AsIV_C",
        "trusted": true,
        "colab": {
          "base_uri": "https://localhost:8080/"
        },
        "outputId": "70f3df0a-af46-4505-ccc8-d2549e72b54b"
      },
      "source": [
        "# Calcualte the CVD distribution based on Gender\n",
        "df_raw['cardio'].value_counts(normalize=True)"
      ],
      "execution_count": null,
      "outputs": [
        {
          "output_type": "execute_result",
          "data": {
            "text/plain": [
              "0    0.5003\n",
              "1    0.4997\n",
              "Name: cardio, dtype: float64"
            ]
          },
          "metadata": {
            "tags": []
          },
          "execution_count": 20
        }
      ]
    },
    {
      "cell_type": "markdown",
      "metadata": {
        "id": "ulFhk457n_FF"
      },
      "source": [
        "Almost two gender are equally distributed which is balanced based on ratio."
      ]
    },
    {
      "cell_type": "code",
      "metadata": {
        "id": "EXcFjtfbn7am",
        "trusted": true,
        "colab": {
          "base_uri": "https://localhost:8080/",
          "height": 442
        },
        "outputId": "e4635767-6120-470c-8520-518abe18fb22"
      },
      "source": [
        "rcParams['figure.figsize'] = 7, 7\n",
        "sns.countplot(x='gender', hue='cardio', data = df_raw, palette=\"Set1\");"
      ],
      "execution_count": null,
      "outputs": [
        {
          "output_type": "display_data",
          "data": {
            "image/png": "[encoded data removed]",
            "text/plain": [
              "<Figure size 504x504 with 1 Axes>"
            ]
          },
          "metadata": {
            "tags": [],
            "needs_background": "light"
          }
        }
      ]
    },
    {
      "cell_type": "markdown",
      "metadata": {
        "id": "HDHQAPkDqwp7"
      },
      "source": [
        "Visualizations shows the the disease label is equally distributed but the gender population is not balanced . Label 1 ( Female ) is twice the count of Label 2 ( Male ) . We need to consider Oversampling of Label 2 or Undersamplying of Label 1 to make an unbiased modelling."
      ]
    },
    {
      "cell_type": "markdown",
      "metadata": {
        "id": "ya-WvcWKrpjI"
      },
      "source": [
        "Next is analysing height and weight of the patients . We can also caluclate the BMI and check their health condition. \n",
        "\n",
        "Initially we analyse the height & weight distribution based on gender."
      ]
    },
    {
      "cell_type": "code",
      "metadata": {
        "id": "NeEQ_vIA6Lxf",
        "trusted": true,
        "colab": {
          "base_uri": "https://localhost:8080/",
          "height": 442
        },
        "outputId": "863fe93b-3175-4d72-b1ad-6628fe1cbeb5"
      },
      "source": [
        "for col in [\"height\", \"weight\"]:\n",
        "    sns.kdeplot(df_raw[col], shade=True)"
      ],
      "execution_count": null,
      "outputs": [
        {
          "output_type": "display_data",
          "data": {
            "image/png": "[encoded data removed]",
            "text/plain": [
              "<Figure size 504x504 with 1 Axes>"
            ]
          },
          "metadata": {
            "tags": [],
            "needs_background": "light"
          }
        }
      ]
    },
    {
      "cell_type": "code",
      "metadata": {
        "id": "iUznT-efqg61",
        "trusted": true,
        "colab": {
          "base_uri": "https://localhost:8080/",
          "height": 442
        },
        "outputId": "21e9a5b5-8fb3-4d57-e549-52c6032fa3a8"
      },
      "source": [
        "# Height Distribution\n",
        "df_melt = pd.melt(frame=df_raw, value_vars=['height'], id_vars=['gender'])\n",
        "plt.figure(figsize=(7, 7))\n",
        "ax = sns.violinplot(\n",
        "    x='variable', \n",
        "    y='value', \n",
        "    hue='gender', \n",
        "    split=True, \n",
        "    data=df_melt, \n",
        "    scale='count',\n",
        "    scale_hue=False,\n",
        "    palette=\"Set2\");"
      ],
      "execution_count": null,
      "outputs": [
        {
          "output_type": "display_data",
          "data": {
            "image/png": "[encoded data removed]",
            "text/plain": [
              "<Figure size 504x504 with 1 Axes>"
            ]
          },
          "metadata": {
            "tags": [],
            "needs_background": "light"
          }
        }
      ]
    },
    {
      "cell_type": "code",
      "metadata": {
        "id": "SxPUN9-Hsk8e",
        "trusted": true,
        "colab": {
          "base_uri": "https://localhost:8080/",
          "height": 442
        },
        "outputId": "110ad22e-2a2c-4b4d-9ba9-6d17faf40526"
      },
      "source": [
        "# Weight Distribution\n",
        "df_melt = pd.melt(frame=df_raw, value_vars=['weight'], id_vars=['gender'])\n",
        "plt.figure(figsize=(7, 7))\n",
        "ax = sns.violinplot(\n",
        "    x='variable', \n",
        "    y='value', \n",
        "    hue='gender', \n",
        "    split=True, \n",
        "    data=df_melt, \n",
        "    scale='count',\n",
        "    scale_hue=False,\n",
        "    palette=\"Set1\");"
      ],
      "execution_count": null,
      "outputs": [
        {
          "output_type": "display_data",
          "data": {
            "image/png": "[encoded data removed]",
            "text/plain": [
              "<Figure size 504x504 with 1 Axes>"
            ]
          },
          "metadata": {
            "tags": [],
            "needs_background": "light"
          }
        }
      ]
    },
    {
      "cell_type": "markdown",
      "metadata": {
        "id": "NRbYeg6btuEz"
      },
      "source": [
        "From the violin plot , the height of label 1 and 2 are slighlt variated where label 1 average is around 161 cm and label 2 is around 169 . But in weights both genders are equally distributed only the population matters.So the weight does not add much value for modelling.\n",
        "\n",
        "Now let us calculate the BMI of the patients , the BMI says whether the person is in Normal health or not . To calcualte it we have a formula\n",
        "\n",
        "BMI = kg/m2 where kg is a person's weight in kilograms and m2 is their height in metres squared\n",
        "\n",
        "**Normal BMI** values are said to be from **18.5 to 25.**"
      ]
    },
    {
      "cell_type": "code",
      "metadata": {
        "id": "O08lykvltHjN",
        "trusted": true,
        "colab": {
          "base_uri": "https://localhost:8080/",
          "height": 428
        },
        "outputId": "0d50e845-09f1-4d5e-aab2-82ac170a81ab"
      },
      "source": [
        "# calculate the BMI score \n",
        "df_raw['BMI'] = df_raw['weight']/((df_raw['height']/100)**2)\n",
        "\n",
        "# categorize normal & abnormal\n",
        "def bmi_categorize(bmi_score):\n",
        "  if 18.5 <= bmi_score <= 25:\n",
        "    return \"Normal\"\n",
        "  else:\n",
        "    return \"Abnormal\"\n",
        "\n",
        "df_raw[\"BMI_State\"] = df_raw[\"BMI\"].apply(lambda x: bmi_categorize(x))\n",
        "df_raw[\"BMI_State\"].value_counts().plot(kind='pie')"
      ],
      "execution_count": null,
      "outputs": [
        {
          "output_type": "execute_result",
          "data": {
            "text/plain": [
              "<matplotlib.axes._subplots.AxesSubplot at 0x7f2ad2a0c470>"
            ]
          },
          "metadata": {
            "tags": []
          },
          "execution_count": 25
        },
        {
          "output_type": "display_data",
          "data": {
            "image/png": "[encoded data removed]",
            "text/plain": [
              "<Figure size 504x504 with 1 Axes>"
            ]
          },
          "metadata": {
            "tags": []
          }
        }
      ]
    },
    {
      "cell_type": "markdown",
      "metadata": {
        "id": "EIsr_-vORc0D"
      },
      "source": [
        "The majority of our patients are abnormal . \n",
        "\n",
        "Also we need to check how many of them cvd if they have abnormal bmi score."
      ]
    },
    {
      "cell_type": "code",
      "metadata": {
        "id": "13DUCrefPIZ6",
        "trusted": true,
        "colab": {
          "base_uri": "https://localhost:8080/",
          "height": 443
        },
        "outputId": "43671987-bc36-4e81-946c-350b571b1f52"
      },
      "source": [
        "rcParams['figure.figsize'] = 7, 7\n",
        "sns.countplot(x='BMI_State', hue='cardio', data = df_raw, palette=\"Set2\");"
      ],
      "execution_count": null,
      "outputs": [
        {
          "output_type": "display_data",
          "data": {
            "image/png": "[encoded data removed]",
            "text/plain": [
              "<Figure size 504x504 with 1 Axes>"
            ]
          },
          "metadata": {
            "tags": [],
            "needs_background": "light"
          }
        }
      ]
    },
    {
      "cell_type": "markdown",
      "metadata": {
        "id": "RHKOOTYQT6tR"
      },
      "source": [
        "This one gave a valuable insight stating that people who follows normal BMI score are less prone to CVD and people with abnormal BMI are having increasing CVD.\n",
        "\n",
        "But we need to check on what conditions they are abnormal such as alcohol habit, physical activities, smoking etc. How these habits are affecting the BMI state of a patient."
      ]
    },
    {
      "cell_type": "code",
      "metadata": {
        "id": "By1U93L2TV4n",
        "trusted": true,
        "colab": {
          "base_uri": "https://localhost:8080/",
          "height": 600
        },
        "outputId": "574f0506-a6e1-4ca4-9cbd-1cc21c199a7c"
      },
      "source": [
        "# comparison plot with alcohol consumption with CVD patients\n",
        "sns.catplot(x=\"BMI_State\", y=\"BMI\" , hue=\"alco\", col=\"cardio\", data=df_raw, kind=\"boxen\", height=8, aspect=.6);"
      ],
      "execution_count": null,
      "outputs": [
        {
          "output_type": "display_data",
          "data": {
            "image/png": "[encoded data removed]",
            "text/plain": [
              "<Figure size 733.575x576 with 2 Axes>"
            ]
          },
          "metadata": {
            "tags": [],
            "needs_background": "light"
          }
        }
      ]
    },
    {
      "cell_type": "markdown",
      "metadata": {
        "id": "hH9iR5Ywfu5z"
      },
      "source": [
        "The plot explains both normal & abnormal person are having equal level of alcohol consumption people for cardio & non cardio patients . So the alcohol factor is not highly influencing the BMI factor. But we need to check whether alcohol consumption impacts cardio diesease.\n",
        "\n",
        "According to American Health board , the factors which are increasing risk of CVD are :\n",
        "* **High blood pressure (hypertension)**\n",
        "* **Abnormal cholesterol and high triglycerides**\n",
        "* **Obesity**\n",
        "* **Lack of physical activity**\n",
        "* **Poorly controlled blood sugars (too high) or out of normal range**\n",
        "* **Smoking**\n",
        "\n",
        "Reference Link : [CVD-Heart.org](https://www.heart.org/en/health-topics/diabetes/why-diabetes-matters/cardiovascular-disease--diabetes)\n",
        "\n",
        "From our available data and with your visualizations we need to prove these factors are true or atleast a strong inference to assume it is false.\n"
      ]
    },
    {
      "cell_type": "code",
      "metadata": {
        "id": "PETrcU5anKnB",
        "trusted": true,
        "colab": {
          "base_uri": "https://localhost:8080/",
          "height": 428
        },
        "outputId": "070e4bf9-1f0a-4453-d7cf-ab107566d68f"
      },
      "source": [
        "# Alcohol consumption \n",
        "df_raw[\"alco\"].value_counts().plot(kind='pie')"
      ],
      "execution_count": null,
      "outputs": [
        {
          "output_type": "execute_result",
          "data": {
            "text/plain": [
              "<matplotlib.axes._subplots.AxesSubplot at 0x7f2ad27182e8>"
            ]
          },
          "metadata": {
            "tags": []
          },
          "execution_count": 28
        },
        {
          "output_type": "display_data",
          "data": {
            "image/png": "[encoded data removed]",
            "text/plain": [
              "<Figure size 504x504 with 1 Axes>"
            ]
          },
          "metadata": {
            "tags": []
          }
        }
      ]
    },
    {
      "cell_type": "markdown",
      "metadata": {
        "id": "-Y20uSc3nlpe"
      },
      "source": [
        "The patients are majorly non-alcoholic. But we need to check , the alcoholic are prone to cardio disease."
      ]
    },
    {
      "cell_type": "code",
      "metadata": {
        "id": "KlBo3LrwVegJ",
        "trusted": true,
        "colab": {
          "base_uri": "https://localhost:8080/",
          "height": 383
        },
        "outputId": "88e3e6d0-f05e-4c46-9c42-c2fec08effe8"
      },
      "source": [
        "# segregate data based on patients having Cvdd \"1\"\n",
        "df_cardio_alco = df_raw.loc[df_raw[\"alco\"] == 1]\n",
        "with sns.axes_style('white'):\n",
        "    g = sns.factorplot(\"cardio\", data=df_cardio_alco, aspect=2,\n",
        "                       kind=\"count\", color='red')\n",
        "    g.set_xticklabels(step=5)"
      ],
      "execution_count": null,
      "outputs": [
        {
          "output_type": "display_data",
          "data": {
            "image/png": "[encoded data removed]",
            "text/plain": [
              "<Figure size 720x360 with 1 Axes>"
            ]
          },
          "metadata": {
            "tags": []
          }
        }
      ]
    },
    {
      "cell_type": "markdown",
      "metadata": {
        "id": "HZgPrpaVibZf"
      },
      "source": [
        "By plots and dataset given , alcohol consumption does not seem to be contributing feature to cardio disease classification. If alcohol consumption seems to be factor it should have high cardio disease count.\n",
        "\n",
        "Now let us take a look for smoking and physical activity factor."
      ]
    },
    {
      "cell_type": "code",
      "metadata": {
        "id": "ogUUSlzZqTZY",
        "trusted": true,
        "colab": {
          "base_uri": "https://localhost:8080/",
          "height": 428
        },
        "outputId": "0f1602f5-f2a6-4ba1-cc18-e848e3e6e258"
      },
      "source": [
        "df_raw[\"smoke\"].value_counts().plot(kind='pie')"
      ],
      "execution_count": null,
      "outputs": [
        {
          "output_type": "execute_result",
          "data": {
            "text/plain": [
              "<matplotlib.axes._subplots.AxesSubplot at 0x7f2ad28352e8>"
            ]
          },
          "metadata": {
            "tags": []
          },
          "execution_count": 30
        },
        {
          "output_type": "display_data",
          "data": {
            "image/png": "[encoded data removed]",
            "text/plain": [
              "<Figure size 504x504 with 1 Axes>"
            ]
          },
          "metadata": {
            "tags": []
          }
        }
      ]
    },
    {
      "cell_type": "markdown",
      "metadata": {
        "id": "unt-Nkueqpk4"
      },
      "source": [
        "The patients are majorly non-smokers. But we need to check , the smokers are prone to cardio disease."
      ]
    },
    {
      "cell_type": "code",
      "metadata": {
        "id": "wrRg4b22hQDr",
        "trusted": true
      },
      "source": [
        "with sns.axes_style('white'):\n",
        "    g = sns.factorplot(\"smoke\", data=df_raw, aspect=4.0, kind='count',\n",
        "                       hue='cardio', palette=\"Set2\")\n",
        "    g.set_ylabels('Number of Patients')"
      ],
      "execution_count": null,
      "outputs": []
    },
    {
      "cell_type": "markdown",
      "metadata": {
        "id": "OrcU8Qj7jjyQ"
      },
      "source": [
        "One thing to observe is , the non smokers are somewhat more prone to cardio disease compare to smoking person with non cardio disease . May be the dataset seem to be polluted. "
      ]
    },
    {
      "cell_type": "code",
      "metadata": {
        "id": "eaz98CWVslWP",
        "trusted": true
      },
      "source": [
        "df_raw[\"active\"].value_counts().plot(kind='pie')"
      ],
      "execution_count": null,
      "outputs": []
    },
    {
      "cell_type": "markdown",
      "metadata": {
        "id": "2YsjVDv0spx2"
      },
      "source": [
        "There are more physically active people in the dataset."
      ]
    },
    {
      "cell_type": "code",
      "metadata": {
        "id": "q4IY4K4BjMfJ",
        "trusted": true,
        "colab": {
          "base_uri": "https://localhost:8080/",
          "height": 322
        },
        "outputId": "65d46422-a805-46c6-f223-cb2ad9a82feb"
      },
      "source": [
        "with sns.axes_style('white'):\n",
        "    g = sns.factorplot(\"active\", data=df_raw, aspect=4.0, kind='count',\n",
        "                       hue='cardio', palette=\"Set2\")\n",
        "    g.set_ylabels('Number of Patients')"
      ],
      "execution_count": null,
      "outputs": [
        {
          "output_type": "display_data",
          "data": {
            "image/png": "[encoded data removed]",
            "text/plain": [
              "<Figure size 1482.38x360 with 1 Axes>"
            ]
          },
          "metadata": {
            "tags": []
          }
        }
      ]
    },
    {
      "cell_type": "markdown",
      "metadata": {
        "id": "FQidqQhXkmEr"
      },
      "source": [
        "This analysis gives a nice picture stating that physically active people are not prone to cardio disease comparing to physicall active people suffers from cardio disease.\n",
        "\n",
        "\n",
        "From this three external features and its visualization , we can conclude that:\n",
        "\n",
        "* **Alcohol** : There are **more non alcoholic patients** compare to alcoholic and there distribution to cardio active patients is quiet opposite.\n",
        "* **Smoking** : There are **more non smokers** compare to smokers. The patients who are non-smokers are more prone to CVD.\n",
        "* **Physical Activity** : There are **more physically active patients** compare to physically inactive people. The physical active people are less prone to this CVD."
      ]
    },
    {
      "cell_type": "markdown",
      "metadata": {
        "id": "H9LqumaxKPso"
      },
      "source": [
        "Next is , Blood Pressure (BP).Blood pressure is the pressure of circulating blood on the walls of blood vessels. Most of this pressure is due to work done by the heart by pumping blood through the circulatory system. \n",
        "\n",
        "Blood pressure is recorded as two numbers:\n",
        "\n",
        "* **Systolic blood pressure (the first number)** – indicates how much pressure your blood is exerting against your artery walls when the heart beats.\n",
        "* **Diastolic blood pressure (the second number)** – indicates how much pressure your blood is exerting against your artery walls while the heart is resting between beats.\n",
        "\n",
        "According to American Heart Association\n",
        "\n",
        "![blood_pressure](https://i.postimg.cc/bwzm4sq5/blood.jpg)\n",
        "\n",
        "For **Systolic blood pressure** , the range should be **120 - 180 mm**.\n",
        "\n",
        "For **Diastolic blood pressure** , the range should be **80 - 120 mm**.\n",
        "\n",
        "A study published by doctors in NCBI NLM recorded a maximum blood pressure of 370/360 mm Hg. This study was performed by recording blood pressure in 10 male athletes through radial artery catheterization.\n",
        "\n",
        "Thus we can drop the ap_hi outlier values over 250 and ap_lo outlier values over 200, without fear of missing data.\n"
      ]
    },
    {
      "cell_type": "markdown",
      "metadata": {
        "id": "NAWVgkYiMxLe"
      },
      "source": [
        "But to make our analysis firm we can do our visualizations for systolic and diastolic pressure."
      ]
    },
    {
      "cell_type": "code",
      "metadata": {
        "id": "MQKSm8e1khax",
        "trusted": true,
        "colab": {
          "base_uri": "https://localhost:8080/",
          "height": 432
        },
        "outputId": "85c77ea8-5862-40d8-ff51-be706e47e9dc"
      },
      "source": [
        "# box plot got systolic blood pressure\n",
        "sns.boxplot( y=df_raw[\"ap_hi\"] )"
      ],
      "execution_count": null,
      "outputs": [
        {
          "output_type": "execute_result",
          "data": {
            "text/plain": [
              "<matplotlib.axes._subplots.AxesSubplot at 0x7f2ad2797390>"
            ]
          },
          "metadata": {
            "tags": []
          },
          "execution_count": 32
        },
        {
          "output_type": "display_data",
          "data": {
            "image/png": "[encoded data removed]",
            "text/plain": [
              "<Figure size 504x504 with 1 Axes>"
            ]
          },
          "metadata": {
            "tags": [],
            "needs_background": "light"
          }
        }
      ]
    },
    {
      "cell_type": "code",
      "metadata": {
        "id": "K10voyjysFfW",
        "trusted": true,
        "colab": {
          "base_uri": "https://localhost:8080/",
          "height": 432
        },
        "outputId": "d519afdd-316d-4312-81f3-3ca2f75a7218"
      },
      "source": [
        "# box plot got diastolic blood pressure\n",
        "sns.boxplot( y=df_raw[\"ap_lo\"] )"
      ],
      "execution_count": null,
      "outputs": [
        {
          "output_type": "execute_result",
          "data": {
            "text/plain": [
              "<matplotlib.axes._subplots.AxesSubplot at 0x7f2ad26d52e8>"
            ]
          },
          "metadata": {
            "tags": []
          },
          "execution_count": 33
        },
        {
          "output_type": "display_data",
          "data": {
            "image/png": "[encoded data removed]",
            "text/plain": [
              "<Figure size 504x504 with 1 Axes>"
            ]
          },
          "metadata": {
            "tags": [],
            "needs_background": "light"
          }
        }
      ]
    },
    {
      "cell_type": "markdown",
      "metadata": {
        "id": "0YKQUIRTsZeZ"
      },
      "source": [
        "You can see there are lot of outliers in this two features.\n",
        "\n",
        "First step , we can remove the outliers and classify the patients based on blood pressure category level.\n",
        "\n"
      ]
    },
    {
      "cell_type": "code",
      "metadata": {
        "id": "u8b0HpmNsve6",
        "trusted": true,
        "colab": {
          "base_uri": "https://localhost:8080/"
        },
        "outputId": "9973e8f2-ed04-4807-d193-59140e0c94d0"
      },
      "source": [
        "out_filter = ((df_raw[\"ap_hi\"]>250) | (df_raw[\"ap_hi\"]>250) | (df_raw[\"ap_lo\"]>200) )\n",
        "print(\"There is {} outlier\".format(df_raw[out_filter][\"cardio\"].count()))"
      ],
      "execution_count": null,
      "outputs": [
        {
          "output_type": "stream",
          "text": [
            "There is 993 outlier\n"
          ],
          "name": "stdout"
        }
      ]
    },
    {
      "cell_type": "code",
      "metadata": {
        "id": "CsgwZ5w4tZL6",
        "trusted": true
      },
      "source": [
        "# removing outliers\n",
        "df_outlier_raw = df_raw[~out_filter]"
      ],
      "execution_count": null,
      "outputs": []
    },
    {
      "cell_type": "code",
      "metadata": {
        "id": "9uYJ_KOjwG2W",
        "trusted": true,
        "colab": {
          "base_uri": "https://localhost:8080/",
          "height": 432
        },
        "outputId": "26822dc0-00e1-4ab0-9e66-4c872c6cf9b2"
      },
      "source": [
        "# checking the box plot got systolic blood pressure after outlier cleaning\n",
        "sns.boxplot( y=df_outlier_raw[\"ap_hi\"] )"
      ],
      "execution_count": null,
      "outputs": [
        {
          "output_type": "execute_result",
          "data": {
            "text/plain": [
              "<matplotlib.axes._subplots.AxesSubplot at 0x7f2ad26da0b8>"
            ]
          },
          "metadata": {
            "tags": []
          },
          "execution_count": 36
        },
        {
          "output_type": "display_data",
          "data": {
            "image/png": "[encoded data removed]",
            "text/plain": [
              "<Figure size 504x504 with 1 Axes>"
            ]
          },
          "metadata": {
            "tags": [],
            "needs_background": "light"
          }
        }
      ]
    },
    {
      "cell_type": "code",
      "metadata": {
        "id": "57Q79MeR0jUC",
        "trusted": true,
        "colab": {
          "base_uri": "https://localhost:8080/",
          "height": 432
        },
        "outputId": "da57d1de-6939-4a85-b2dd-930c4001ca6f"
      },
      "source": [
        "# checking the box plot got diastolic blood pressure after outlier cleaning\n",
        "sns.boxplot( y=df_outlier_raw[\"ap_lo\"] )"
      ],
      "execution_count": null,
      "outputs": [
        {
          "output_type": "execute_result",
          "data": {
            "text/plain": [
              "<matplotlib.axes._subplots.AxesSubplot at 0x7f2ad2ab5240>"
            ]
          },
          "metadata": {
            "tags": []
          },
          "execution_count": 37
        },
        {
          "output_type": "display_data",
          "data": {
            "image/png": "[encoded data removed]",
            "text/plain": [
              "<Figure size 504x504 with 1 Axes>"
            ]
          },
          "metadata": {
            "tags": [],
            "needs_background": "light"
          }
        }
      ]
    },
    {
      "cell_type": "markdown",
      "metadata": {
        "id": "X0ZQYNnRKPJS"
      },
      "source": [
        "After removing the outliers , we can get the clear picture of the distribution of systolic and diastolic pressure.\n",
        "\n",
        "Now we can categorize the blood pressure by their category range"
      ]
    },
    {
      "cell_type": "code",
      "metadata": {
        "id": "0VlUPBLgmu4Z",
        "trusted": true,
        "colab": {
          "base_uri": "https://localhost:8080/",
          "height": 204
        },
        "outputId": "163ae4d4-d616-483a-b3fa-57c597002508"
      },
      "source": [
        "df_raw.tail(5)"
      ],
      "execution_count": null,
      "outputs": [
        {
          "output_type": "execute_result",
          "data": {
            "text/html": [
              "<div>\n",
              "<style scoped>\n",
              "    .dataframe tbody tr th:only-of-type {\n",
              "        vertical-align: middle;\n",
              "    }\n",
              "\n",
              "    .dataframe tbody tr th {\n",
              "        vertical-align: top;\n",
              "    }\n",
              "\n",
              "    .dataframe thead th {\n",
              "        text-align: right;\n",
              "    }\n",
              "</style>\n",
              "<table border=\"1\" class=\"dataframe\">\n",
              "  <thead>\n",
              "    <tr style=\"text-align: right;\">\n",
              "      <th></th>\n",
              "      <th>id</th>\n",
              "      <th>age</th>\n",
              "      <th>gender</th>\n",
              "      <th>height</th>\n",
              "      <th>weight</th>\n",
              "      <th>ap_hi</th>\n",
              "      <th>ap_lo</th>\n",
              "      <th>cholesterol</th>\n",
              "      <th>gluc</th>\n",
              "      <th>smoke</th>\n",
              "      <th>alco</th>\n",
              "      <th>active</th>\n",
              "      <th>cardio</th>\n",
              "      <th>age_new</th>\n",
              "      <th>age_cat</th>\n",
              "      <th>age_tees</th>\n",
              "      <th>BMI</th>\n",
              "      <th>BMI_State</th>\n",
              "    </tr>\n",
              "  </thead>\n",
              "  <tbody>\n",
              "    <tr>\n",
              "      <th>69995</th>\n",
              "      <td>99993</td>\n",
              "      <td>19240</td>\n",
              "      <td>2</td>\n",
              "      <td>168</td>\n",
              "      <td>76.0</td>\n",
              "      <td>120</td>\n",
              "      <td>80</td>\n",
              "      <td>1</td>\n",
              "      <td>1</td>\n",
              "      <td>1</td>\n",
              "      <td>0</td>\n",
              "      <td>1</td>\n",
              "      <td>0</td>\n",
              "      <td>52</td>\n",
              "      <td>Middle Aged</td>\n",
              "      <td>60s</td>\n",
              "      <td>26.927438</td>\n",
              "      <td>Abnormal</td>\n",
              "    </tr>\n",
              "    <tr>\n",
              "      <th>69996</th>\n",
              "      <td>99995</td>\n",
              "      <td>22601</td>\n",
              "      <td>1</td>\n",
              "      <td>158</td>\n",
              "      <td>126.0</td>\n",
              "      <td>140</td>\n",
              "      <td>90</td>\n",
              "      <td>2</td>\n",
              "      <td>2</td>\n",
              "      <td>0</td>\n",
              "      <td>0</td>\n",
              "      <td>1</td>\n",
              "      <td>1</td>\n",
              "      <td>61</td>\n",
              "      <td>Middle Aged</td>\n",
              "      <td>70+</td>\n",
              "      <td>50.472681</td>\n",
              "      <td>Abnormal</td>\n",
              "    </tr>\n",
              "    <tr>\n",
              "      <th>69997</th>\n",
              "      <td>99996</td>\n",
              "      <td>19066</td>\n",
              "      <td>2</td>\n",
              "      <td>183</td>\n",
              "      <td>105.0</td>\n",
              "      <td>180</td>\n",
              "      <td>90</td>\n",
              "      <td>3</td>\n",
              "      <td>1</td>\n",
              "      <td>0</td>\n",
              "      <td>1</td>\n",
              "      <td>0</td>\n",
              "      <td>1</td>\n",
              "      <td>52</td>\n",
              "      <td>Middle Aged</td>\n",
              "      <td>60s</td>\n",
              "      <td>31.353579</td>\n",
              "      <td>Abnormal</td>\n",
              "    </tr>\n",
              "    <tr>\n",
              "      <th>69998</th>\n",
              "      <td>99998</td>\n",
              "      <td>22431</td>\n",
              "      <td>1</td>\n",
              "      <td>163</td>\n",
              "      <td>72.0</td>\n",
              "      <td>135</td>\n",
              "      <td>80</td>\n",
              "      <td>1</td>\n",
              "      <td>2</td>\n",
              "      <td>0</td>\n",
              "      <td>0</td>\n",
              "      <td>0</td>\n",
              "      <td>1</td>\n",
              "      <td>61</td>\n",
              "      <td>Middle Aged</td>\n",
              "      <td>70+</td>\n",
              "      <td>27.099251</td>\n",
              "      <td>Abnormal</td>\n",
              "    </tr>\n",
              "    <tr>\n",
              "      <th>69999</th>\n",
              "      <td>99999</td>\n",
              "      <td>20540</td>\n",
              "      <td>1</td>\n",
              "      <td>170</td>\n",
              "      <td>72.0</td>\n",
              "      <td>120</td>\n",
              "      <td>80</td>\n",
              "      <td>2</td>\n",
              "      <td>1</td>\n",
              "      <td>0</td>\n",
              "      <td>0</td>\n",
              "      <td>1</td>\n",
              "      <td>0</td>\n",
              "      <td>56</td>\n",
              "      <td>Middle Aged</td>\n",
              "      <td>60s</td>\n",
              "      <td>24.913495</td>\n",
              "      <td>Normal</td>\n",
              "    </tr>\n",
              "  </tbody>\n",
              "</table>\n",
              "</div>"
            ],
            "text/plain": [
              "          id    age  gender  height  ...      age_cat  age_tees        BMI  BMI_State\n",
              "69995  99993  19240       2     168  ...  Middle Aged       60s  26.927438   Abnormal\n",
              "69996  99995  22601       1     158  ...  Middle Aged       70+  50.472681   Abnormal\n",
              "69997  99996  19066       2     183  ...  Middle Aged       60s  31.353579   Abnormal\n",
              "69998  99998  22431       1     163  ...  Middle Aged       70+  27.099251   Abnormal\n",
              "69999  99999  20540       1     170  ...  Middle Aged       60s  24.913495     Normal\n",
              "\n",
              "[5 rows x 18 columns]"
            ]
          },
          "metadata": {
            "tags": []
          },
          "execution_count": 38
        }
      ]
    },
    {
      "cell_type": "code",
      "metadata": {
        "id": "iE9-wkBrgUD7",
        "trusted": true,
        "colab": {
          "base_uri": "https://localhost:8080/",
          "height": 377
        },
        "outputId": "e54744e4-8155-4bb7-ed0e-1492bf3191b4"
      },
      "source": [
        "def categorize_blood_pressure(x):\n",
        "  if x['ap_hi'] < 120 and x['ap_lo'] < 80:\n",
        "    return \"Normal\"\n",
        "  elif 120 <= x['ap_hi'] <= 129 and x['ap_lo'] < 80:\n",
        "    return \"Elevated\"\n",
        "  elif 130 <= x['ap_hi'] <= 139 or 80 <= x['ap_lo'] <= 89:\n",
        "    return \"High Blood Pressure(Stage 1)\"\n",
        "  elif  140 <= x['ap_hi'] <= 180 or 90 <= x['ap_lo'] <= 120:\n",
        "    return \"High Blood Pressure(Stage 2)\"\n",
        "  elif  (x['ap_hi'] > 180 and  x['ap_lo'] > 120) or (x['ap_hi'] > 180 or x['ap_lo'] > 120):\n",
        "    return \"Hypertensive Crisis\"\n",
        "\n",
        "# remove outliers\n",
        "out_filter = ((df_raw[\"ap_hi\"]>250) | (df_raw[\"ap_hi\"]>250) | (df_raw[\"ap_lo\"]>200) )\n",
        "df_raw = df_raw[~out_filter]\n",
        "# categorizing blood pressure\n",
        "df_raw['blood_category'] = df_raw.apply(categorize_blood_pressure, axis=1)\n",
        " \n",
        "df_raw.head()"
      ],
      "execution_count": null,
      "outputs": [
        {
          "output_type": "execute_result",
          "data": {
            "text/html": [
              "<div>\n",
              "<style scoped>\n",
              "    .dataframe tbody tr th:only-of-type {\n",
              "        vertical-align: middle;\n",
              "    }\n",
              "\n",
              "    .dataframe tbody tr th {\n",
              "        vertical-align: top;\n",
              "    }\n",
              "\n",
              "    .dataframe thead th {\n",
              "        text-align: right;\n",
              "    }\n",
              "</style>\n",
              "<table border=\"1\" class=\"dataframe\">\n",
              "  <thead>\n",
              "    <tr style=\"text-align: right;\">\n",
              "      <th></th>\n",
              "      <th>id</th>\n",
              "      <th>age</th>\n",
              "      <th>gender</th>\n",
              "      <th>height</th>\n",
              "      <th>weight</th>\n",
              "      <th>ap_hi</th>\n",
              "      <th>ap_lo</th>\n",
              "      <th>cholesterol</th>\n",
              "      <th>gluc</th>\n",
              "      <th>smoke</th>\n",
              "      <th>alco</th>\n",
              "      <th>active</th>\n",
              "      <th>cardio</th>\n",
              "      <th>age_new</th>\n",
              "      <th>age_cat</th>\n",
              "      <th>age_tees</th>\n",
              "      <th>BMI</th>\n",
              "      <th>BMI_State</th>\n",
              "      <th>blood_category</th>\n",
              "    </tr>\n",
              "  </thead>\n",
              "  <tbody>\n",
              "    <tr>\n",
              "      <th>0</th>\n",
              "      <td>0</td>\n",
              "      <td>18393</td>\n",
              "      <td>2</td>\n",
              "      <td>168</td>\n",
              "      <td>62.0</td>\n",
              "      <td>110</td>\n",
              "      <td>80</td>\n",
              "      <td>1</td>\n",
              "      <td>1</td>\n",
              "      <td>0</td>\n",
              "      <td>0</td>\n",
              "      <td>1</td>\n",
              "      <td>0</td>\n",
              "      <td>50</td>\n",
              "      <td>Middle Aged</td>\n",
              "      <td>50s</td>\n",
              "      <td>21.967120</td>\n",
              "      <td>Normal</td>\n",
              "      <td>High Blood Pressure(Stage 1)</td>\n",
              "    </tr>\n",
              "    <tr>\n",
              "      <th>1</th>\n",
              "      <td>1</td>\n",
              "      <td>20228</td>\n",
              "      <td>1</td>\n",
              "      <td>156</td>\n",
              "      <td>85.0</td>\n",
              "      <td>140</td>\n",
              "      <td>90</td>\n",
              "      <td>3</td>\n",
              "      <td>1</td>\n",
              "      <td>0</td>\n",
              "      <td>0</td>\n",
              "      <td>1</td>\n",
              "      <td>1</td>\n",
              "      <td>55</td>\n",
              "      <td>Middle Aged</td>\n",
              "      <td>60s</td>\n",
              "      <td>34.927679</td>\n",
              "      <td>Abnormal</td>\n",
              "      <td>High Blood Pressure(Stage 2)</td>\n",
              "    </tr>\n",
              "    <tr>\n",
              "      <th>2</th>\n",
              "      <td>2</td>\n",
              "      <td>18857</td>\n",
              "      <td>1</td>\n",
              "      <td>165</td>\n",
              "      <td>64.0</td>\n",
              "      <td>130</td>\n",
              "      <td>70</td>\n",
              "      <td>3</td>\n",
              "      <td>1</td>\n",
              "      <td>0</td>\n",
              "      <td>0</td>\n",
              "      <td>0</td>\n",
              "      <td>1</td>\n",
              "      <td>51</td>\n",
              "      <td>Middle Aged</td>\n",
              "      <td>60s</td>\n",
              "      <td>23.507805</td>\n",
              "      <td>Normal</td>\n",
              "      <td>High Blood Pressure(Stage 1)</td>\n",
              "    </tr>\n",
              "    <tr>\n",
              "      <th>3</th>\n",
              "      <td>3</td>\n",
              "      <td>17623</td>\n",
              "      <td>2</td>\n",
              "      <td>169</td>\n",
              "      <td>82.0</td>\n",
              "      <td>150</td>\n",
              "      <td>100</td>\n",
              "      <td>1</td>\n",
              "      <td>1</td>\n",
              "      <td>0</td>\n",
              "      <td>0</td>\n",
              "      <td>1</td>\n",
              "      <td>1</td>\n",
              "      <td>48</td>\n",
              "      <td>Middle Aged</td>\n",
              "      <td>50s</td>\n",
              "      <td>28.710479</td>\n",
              "      <td>Abnormal</td>\n",
              "      <td>High Blood Pressure(Stage 2)</td>\n",
              "    </tr>\n",
              "    <tr>\n",
              "      <th>4</th>\n",
              "      <td>4</td>\n",
              "      <td>17474</td>\n",
              "      <td>1</td>\n",
              "      <td>156</td>\n",
              "      <td>56.0</td>\n",
              "      <td>100</td>\n",
              "      <td>60</td>\n",
              "      <td>1</td>\n",
              "      <td>1</td>\n",
              "      <td>0</td>\n",
              "      <td>0</td>\n",
              "      <td>0</td>\n",
              "      <td>0</td>\n",
              "      <td>47</td>\n",
              "      <td>Middle Aged</td>\n",
              "      <td>50s</td>\n",
              "      <td>23.011177</td>\n",
              "      <td>Normal</td>\n",
              "      <td>Normal</td>\n",
              "    </tr>\n",
              "  </tbody>\n",
              "</table>\n",
              "</div>"
            ],
            "text/plain": [
              "   id    age  gender  ...        BMI  BMI_State                blood_category\n",
              "0   0  18393       2  ...  21.967120     Normal  High Blood Pressure(Stage 1)\n",
              "1   1  20228       1  ...  34.927679   Abnormal  High Blood Pressure(Stage 2)\n",
              "2   2  18857       1  ...  23.507805     Normal  High Blood Pressure(Stage 1)\n",
              "3   3  17623       2  ...  28.710479   Abnormal  High Blood Pressure(Stage 2)\n",
              "4   4  17474       1  ...  23.011177     Normal                        Normal\n",
              "\n",
              "[5 rows x 19 columns]"
            ]
          },
          "metadata": {
            "tags": []
          },
          "execution_count": 39
        }
      ]
    },
    {
      "cell_type": "code",
      "metadata": {
        "id": "Fa7RvSiojUDQ",
        "trusted": true,
        "colab": {
          "base_uri": "https://localhost:8080/",
          "height": 428
        },
        "outputId": "491c1553-bc66-4989-f18b-be0383ab3e11"
      },
      "source": [
        "# Visulization of blood pressure category\n",
        "df_raw[\"blood_category\"].value_counts().plot(kind='pie')"
      ],
      "execution_count": null,
      "outputs": [
        {
          "output_type": "execute_result",
          "data": {
            "text/plain": [
              "<matplotlib.axes._subplots.AxesSubplot at 0x7f2adab2ecc0>"
            ]
          },
          "metadata": {
            "tags": []
          },
          "execution_count": 40
        },
        {
          "output_type": "display_data",
          "data": {
            "image/png": "[encoded data removed]",
            "text/plain": [
              "<Figure size 504x504 with 1 Axes>"
            ]
          },
          "metadata": {
            "tags": []
          }
        }
      ]
    },
    {
      "cell_type": "markdown",
      "metadata": {
        "id": "1O86cq8prgoH"
      },
      "source": [
        "Most of them are in elevated condition followed by stage 2 and normal.\n",
        "\n",
        "Let us see which are the categories are mostly suffering from cardio disease."
      ]
    },
    {
      "cell_type": "code",
      "metadata": {
        "id": "UxD_wql0qlaL",
        "trusted": true,
        "colab": {
          "base_uri": "https://localhost:8080/",
          "height": 323
        },
        "outputId": "becdb49f-76e0-49f0-89e7-a3754b9a6fc9"
      },
      "source": [
        "with sns.axes_style('white'):\n",
        "    g = sns.factorplot(\"blood_category\", data=df_raw, aspect=4.0, kind='count',\n",
        "                       hue='cardio', palette=\"Set2\", order=[\"Normal\", \"Elevated\", \"High Blood Pressure(Stage 1)\", \"High Blood Pressure(Stage 2)\", \"Hypertensive Crisis\"])\n",
        "    g.set_ylabels('Number of Patients')"
      ],
      "execution_count": null,
      "outputs": [
        {
          "output_type": "display_data",
          "data": {
            "image/png": "[encoded data removed]",
            "text/plain": [
              "<Figure size 1482.38x360 with 1 Axes>"
            ]
          },
          "metadata": {
            "tags": []
          }
        }
      ]
    },
    {
      "cell_type": "markdown",
      "metadata": {
        "id": "QjzQCXAwxS6v"
      },
      "source": [
        "This visualization clearing stating that high blood pressure stage 2 are prone to cardio disease . This feature is highly correlating with the target variable.\n",
        "\n",
        "Coming to the Cholestrol feature\n",
        "\n",
        "According to medical study , When there is too much cholesterol in your blood, it builds up in the walls of your arteries, causing a process called atherosclerosis, a form of heart disease. The arteries become narrowed and blood flow to the heart muscle is slowed down or blocked. The blood carries oxygen to the heart, and if not enough blood and oxygen reach your heart, you may suffer chest pain.\n",
        "\n",
        "The visualization have to prove that patients having well above normal and above normal should have high ratio of cvdd compare to normal patients."
      ]
    },
    {
      "cell_type": "code",
      "metadata": {
        "id": "j43fy75EtzI5",
        "trusted": true,
        "colab": {
          "base_uri": "https://localhost:8080/",
          "height": 322
        },
        "outputId": "7d35b851-2c94-4a7d-d5a8-84d56554d6e5"
      },
      "source": [
        "with sns.axes_style('white'):\n",
        "    g = sns.factorplot(\"cholesterol\", data=df_raw, aspect=4.0, kind='count',\n",
        "                       hue='cardio', palette=\"Set2\")\n",
        "    g.set_ylabels('Number of Patients')"
      ],
      "execution_count": null,
      "outputs": [
        {
          "output_type": "display_data",
          "data": {
            "image/png": "[encoded data removed]",
            "text/plain": [
              "<Figure size 1482.38x360 with 1 Axes>"
            ]
          },
          "metadata": {
            "tags": []
          }
        }
      ]
    },
    {
      "cell_type": "markdown",
      "metadata": {
        "id": "D2A4OH44GxkD"
      },
      "source": [
        "From this we can infer that , the patients who are having **above normal & well above normal** are the highest risk patient for CVD compare to the normal level cholestrol patients.\n",
        "\n",
        "Next is the glucose realtion with CVD. But medical studes claiming that the glucose levels are not helpful for impacting CVD target. But anyway we make graph to check that."
      ]
    },
    {
      "cell_type": "code",
      "metadata": {
        "id": "Tv8wpfFczLn6",
        "trusted": true,
        "colab": {
          "base_uri": "https://localhost:8080/",
          "height": 322
        },
        "outputId": "37ad2e05-3740-46f7-8cee-e2a83d849271"
      },
      "source": [
        "with sns.axes_style('white'):\n",
        "    g = sns.factorplot(\"gluc\", data=df_raw, aspect=4.0, kind='count',\n",
        "                       hue='cardio', palette=\"Set2\")\n",
        "    g.set_ylabels('Number of Patients')"
      ],
      "execution_count": null,
      "outputs": [
        {
          "output_type": "display_data",
          "data": {
            "image/png": "[encoded data removed]",
            "text/plain": [
              "<Figure size 1482.38x360 with 1 Axes>"
            ]
          },
          "metadata": {
            "tags": []
          }
        }
      ]
    },
    {
      "cell_type": "markdown",
      "metadata": {
        "id": "PNPDpHBaKlMu"
      },
      "source": [
        "Yup thats great, this shows most are maintaining normal glucose level and abnormal patients have high risk to CVD.\n",
        "\n",
        "Finally we make correlation graph with the engineered features and selected ones, they are :\n",
        "* "
      ]
    },
    {
      "cell_type": "code",
      "metadata": {
        "id": "5TZsOuyXMSqN",
        "trusted": true,
        "colab": {
          "base_uri": "https://localhost:8080/",
          "height": 204
        },
        "outputId": "4a654851-1d41-438c-8af1-1e0abd87d96d"
      },
      "source": [
        "# Filtering out the required features\n",
        "new_df = df_raw[[\"gender\",\"age_tees\",\"BMI\",\"BMI_State\",\"cholesterol\",\"gluc\",\"active\",\"blood_category\",\"cardio\"]].copy()\n",
        "new_df.head()"
      ],
      "execution_count": null,
      "outputs": [
        {
          "output_type": "execute_result",
          "data": {
            "text/html": [
              "<div>\n",
              "<style scoped>\n",
              "    .dataframe tbody tr th:only-of-type {\n",
              "        vertical-align: middle;\n",
              "    }\n",
              "\n",
              "    .dataframe tbody tr th {\n",
              "        vertical-align: top;\n",
              "    }\n",
              "\n",
              "    .dataframe thead th {\n",
              "        text-align: right;\n",
              "    }\n",
              "</style>\n",
              "<table border=\"1\" class=\"dataframe\">\n",
              "  <thead>\n",
              "    <tr style=\"text-align: right;\">\n",
              "      <th></th>\n",
              "      <th>gender</th>\n",
              "      <th>age_tees</th>\n",
              "      <th>BMI</th>\n",
              "      <th>BMI_State</th>\n",
              "      <th>cholesterol</th>\n",
              "      <th>gluc</th>\n",
              "      <th>active</th>\n",
              "      <th>blood_category</th>\n",
              "      <th>cardio</th>\n",
              "    </tr>\n",
              "  </thead>\n",
              "  <tbody>\n",
              "    <tr>\n",
              "      <th>0</th>\n",
              "      <td>2</td>\n",
              "      <td>50s</td>\n",
              "      <td>21.967120</td>\n",
              "      <td>Normal</td>\n",
              "      <td>1</td>\n",
              "      <td>1</td>\n",
              "      <td>1</td>\n",
              "      <td>High Blood Pressure(Stage 1)</td>\n",
              "      <td>0</td>\n",
              "    </tr>\n",
              "    <tr>\n",
              "      <th>1</th>\n",
              "      <td>1</td>\n",
              "      <td>60s</td>\n",
              "      <td>34.927679</td>\n",
              "      <td>Abnormal</td>\n",
              "      <td>3</td>\n",
              "      <td>1</td>\n",
              "      <td>1</td>\n",
              "      <td>High Blood Pressure(Stage 2)</td>\n",
              "      <td>1</td>\n",
              "    </tr>\n",
              "    <tr>\n",
              "      <th>2</th>\n",
              "      <td>1</td>\n",
              "      <td>60s</td>\n",
              "      <td>23.507805</td>\n",
              "      <td>Normal</td>\n",
              "      <td>3</td>\n",
              "      <td>1</td>\n",
              "      <td>0</td>\n",
              "      <td>High Blood Pressure(Stage 1)</td>\n",
              "      <td>1</td>\n",
              "    </tr>\n",
              "    <tr>\n",
              "      <th>3</th>\n",
              "      <td>2</td>\n",
              "      <td>50s</td>\n",
              "      <td>28.710479</td>\n",
              "      <td>Abnormal</td>\n",
              "      <td>1</td>\n",
              "      <td>1</td>\n",
              "      <td>1</td>\n",
              "      <td>High Blood Pressure(Stage 2)</td>\n",
              "      <td>1</td>\n",
              "    </tr>\n",
              "    <tr>\n",
              "      <th>4</th>\n",
              "      <td>1</td>\n",
              "      <td>50s</td>\n",
              "      <td>23.011177</td>\n",
              "      <td>Normal</td>\n",
              "      <td>1</td>\n",
              "      <td>1</td>\n",
              "      <td>0</td>\n",
              "      <td>Normal</td>\n",
              "      <td>0</td>\n",
              "    </tr>\n",
              "  </tbody>\n",
              "</table>\n",
              "</div>"
            ],
            "text/plain": [
              "   gender age_tees        BMI  ... active                blood_category  cardio\n",
              "0       2      50s  21.967120  ...      1  High Blood Pressure(Stage 1)       0\n",
              "1       1      60s  34.927679  ...      1  High Blood Pressure(Stage 2)       1\n",
              "2       1      60s  23.507805  ...      0  High Blood Pressure(Stage 1)       1\n",
              "3       2      50s  28.710479  ...      1  High Blood Pressure(Stage 2)       1\n",
              "4       1      50s  23.011177  ...      0                        Normal       0\n",
              "\n",
              "[5 rows x 9 columns]"
            ]
          },
          "metadata": {
            "tags": []
          },
          "execution_count": 44
        }
      ]
    },
    {
      "cell_type": "code",
      "metadata": {
        "id": "kpTEx1mXPnFU",
        "trusted": true,
        "colab": {
          "base_uri": "https://localhost:8080/"
        },
        "outputId": "595761a4-ab13-4b2f-b54e-0a3a26be4941"
      },
      "source": [
        "# Checking any missing values\n",
        "new_df.isnull().sum()"
      ],
      "execution_count": null,
      "outputs": [
        {
          "output_type": "execute_result",
          "data": {
            "text/plain": [
              "gender            0\n",
              "age_tees          0\n",
              "BMI               0\n",
              "BMI_State         0\n",
              "cholesterol       0\n",
              "gluc              0\n",
              "active            0\n",
              "blood_category    0\n",
              "cardio            0\n",
              "dtype: int64"
            ]
          },
          "metadata": {
            "tags": []
          },
          "execution_count": 45
        }
      ]
    },
    {
      "cell_type": "code",
      "metadata": {
        "id": "cEXrT1MzOccI",
        "trusted": true,
        "colab": {
          "base_uri": "https://localhost:8080/",
          "height": 204
        },
        "outputId": "6f50e5a3-680d-47b4-887e-cdb72871dff8"
      },
      "source": [
        "# Label encode the categorical columns BMI_State & blood category\n",
        "le = preprocessing.LabelEncoder()\n",
        "\n",
        "# BMI_State\n",
        "le.fit(new_df['BMI_State'])\n",
        "new_df['BMI_State'] = le.transform(new_df['BMI_State'])\n",
        "\n",
        "# blood category\n",
        "le.fit(new_df['blood_category'])\n",
        "new_df['blood_category'] = le.transform(new_df['blood_category'])\n",
        "\n",
        "# age tees\n",
        "le.fit(new_df['age_tees'])\n",
        "new_df['age_tees'] = le.transform(new_df['age_tees'])\n",
        "\n",
        "new_df.head()"
      ],
      "execution_count": null,
      "outputs": [
        {
          "output_type": "execute_result",
          "data": {
            "text/html": [
              "<div>\n",
              "<style scoped>\n",
              "    .dataframe tbody tr th:only-of-type {\n",
              "        vertical-align: middle;\n",
              "    }\n",
              "\n",
              "    .dataframe tbody tr th {\n",
              "        vertical-align: top;\n",
              "    }\n",
              "\n",
              "    .dataframe thead th {\n",
              "        text-align: right;\n",
              "    }\n",
              "</style>\n",
              "<table border=\"1\" class=\"dataframe\">\n",
              "  <thead>\n",
              "    <tr style=\"text-align: right;\">\n",
              "      <th></th>\n",
              "      <th>gender</th>\n",
              "      <th>age_tees</th>\n",
              "      <th>BMI</th>\n",
              "      <th>BMI_State</th>\n",
              "      <th>cholesterol</th>\n",
              "      <th>gluc</th>\n",
              "      <th>active</th>\n",
              "      <th>blood_category</th>\n",
              "      <th>cardio</th>\n",
              "    </tr>\n",
              "  </thead>\n",
              "  <tbody>\n",
              "    <tr>\n",
              "      <th>0</th>\n",
              "      <td>2</td>\n",
              "      <td>2</td>\n",
              "      <td>21.967120</td>\n",
              "      <td>1</td>\n",
              "      <td>1</td>\n",
              "      <td>1</td>\n",
              "      <td>1</td>\n",
              "      <td>1</td>\n",
              "      <td>0</td>\n",
              "    </tr>\n",
              "    <tr>\n",
              "      <th>1</th>\n",
              "      <td>1</td>\n",
              "      <td>3</td>\n",
              "      <td>34.927679</td>\n",
              "      <td>0</td>\n",
              "      <td>3</td>\n",
              "      <td>1</td>\n",
              "      <td>1</td>\n",
              "      <td>2</td>\n",
              "      <td>1</td>\n",
              "    </tr>\n",
              "    <tr>\n",
              "      <th>2</th>\n",
              "      <td>1</td>\n",
              "      <td>3</td>\n",
              "      <td>23.507805</td>\n",
              "      <td>1</td>\n",
              "      <td>3</td>\n",
              "      <td>1</td>\n",
              "      <td>0</td>\n",
              "      <td>1</td>\n",
              "      <td>1</td>\n",
              "    </tr>\n",
              "    <tr>\n",
              "      <th>3</th>\n",
              "      <td>2</td>\n",
              "      <td>2</td>\n",
              "      <td>28.710479</td>\n",
              "      <td>0</td>\n",
              "      <td>1</td>\n",
              "      <td>1</td>\n",
              "      <td>1</td>\n",
              "      <td>2</td>\n",
              "      <td>1</td>\n",
              "    </tr>\n",
              "    <tr>\n",
              "      <th>4</th>\n",
              "      <td>1</td>\n",
              "      <td>2</td>\n",
              "      <td>23.011177</td>\n",
              "      <td>1</td>\n",
              "      <td>1</td>\n",
              "      <td>1</td>\n",
              "      <td>0</td>\n",
              "      <td>4</td>\n",
              "      <td>0</td>\n",
              "    </tr>\n",
              "  </tbody>\n",
              "</table>\n",
              "</div>"
            ],
            "text/plain": [
              "   gender  age_tees        BMI  BMI_State  ...  gluc  active  blood_category  cardio\n",
              "0       2         2  21.967120          1  ...     1       1               1       0\n",
              "1       1         3  34.927679          0  ...     1       1               2       1\n",
              "2       1         3  23.507805          1  ...     1       0               1       1\n",
              "3       2         2  28.710479          0  ...     1       1               2       1\n",
              "4       1         2  23.011177          1  ...     1       0               4       0\n",
              "\n",
              "[5 rows x 9 columns]"
            ]
          },
          "metadata": {
            "tags": []
          },
          "execution_count": 46
        }
      ]
    },
    {
      "cell_type": "code",
      "metadata": {
        "id": "RndB_mSgNeZ0",
        "trusted": true,
        "colab": {
          "base_uri": "https://localhost:8080/",
          "height": 885
        },
        "outputId": "e00393ce-af8d-4c36-af5a-461d87ec3a4c"
      },
      "source": [
        "# plotting correlation map\n",
        "corr = new_df.corr()\n",
        "f, ax = plt.subplots(figsize = (15,15))\n",
        "sns.heatmap(corr, annot=True, fmt=\".3f\", linewidths=0.5, ax=ax)"
      ],
      "execution_count": null,
      "outputs": [
        {
          "output_type": "execute_result",
          "data": {
            "text/plain": [
              "<matplotlib.axes._subplots.AxesSubplot at 0x7f2adb426208>"
            ]
          },
          "metadata": {
            "tags": []
          },
          "execution_count": 47
        },
        {
          "output_type": "display_data",
          "data": {
            "image/png": "[encoded data removed]",
            "text/plain": [
              "<Figure size 1080x1080 with 2 Axes>"
            ]
          },
          "metadata": {
            "tags": [],
            "needs_background": "light"
          }
        }
      ]
    }
  ]
}